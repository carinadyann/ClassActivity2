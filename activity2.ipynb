{
  "nbformat": 4,
  "nbformat_minor": 0,
  "metadata": {
    "colab": {
      "provenance": [],
      "mount_file_id": "1CYJha8ERPLbXRpi_O4BjjKskVm-8dazY",
      "authorship_tag": "ABX9TyNNuxlmYkvwH5NJhrsI22er",
      "include_colab_link": true
    },
    "kernelspec": {
      "name": "python3",
      "display_name": "Python 3"
    },
    "language_info": {
      "name": "python"
    }
  },
  "cells": [
    {
      "cell_type": "markdown",
      "metadata": {
        "id": "view-in-github",
        "colab_type": "text"
      },
      "source": [
        "<a href=\"https://colab.research.google.com/github/carinadyann/ClassActivity2/blob/main/activity2.ipynb\" target=\"_parent\"><img src=\"https://colab.research.google.com/assets/colab-badge.svg\" alt=\"Open In Colab\"/></a>"
      ]
    },
    {
      "cell_type": "code",
      "source": [
        "#Mount Google Drive\n",
        "from google.colab import drive,files\n",
        "drive.mount('/content/drive/')"
      ],
      "metadata": {
        "colab": {
          "base_uri": "https://localhost:8080/"
        },
        "id": "GwsfgdGfaCSt",
        "outputId": "0ff123b8-42bd-4ed7-cff1-ecbb89f75ce4"
      },
      "execution_count": null,
      "outputs": [
        {
          "output_type": "stream",
          "name": "stdout",
          "text": [
            "Drive already mounted at /content/drive/; to attempt to forcibly remount, call drive.mount(\"/content/drive/\", force_remount=True).\n"
          ]
        }
      ]
    },
    {
      "cell_type": "code",
      "execution_count": 9,
      "metadata": {
        "colab": {
          "base_uri": "https://localhost:8080/"
        },
        "id": "ps7p6IUhZedb",
        "outputId": "c95d2907-9e92-49ec-919e-70d0e4327bcb"
      },
      "outputs": [
        {
          "output_type": "stream",
          "name": "stdout",
          "text": [
            "Cross-Validation Results (Social Support vs Unemployment)\n",
            "============================================================\n",
            "MSE Scores: [16.57650378471584, 7.773224167682244, 29.206988272634625, 21.8570356994141, 6.290163007040814]\n",
            "Mean MSE Score: 16.340782986297526\n"
          ]
        }
      ],
      "source": [
        "from sklearn.model_selection import train_test_split\n",
        "from sklearn.metrics import mean_squared_error\n",
        "import numpy as np\n",
        "import pandas as pd\n",
        "import sklearn.linear_model\n",
        "\n",
        "#Display Function\n",
        "def display(scores, mean) :\n",
        "  # Display resultss\n",
        "  print(\"============================================================\")\n",
        "  print(\"MSE Scores:\", scores)\n",
        "  print(\"Mean MSE Score:\", mean)\n",
        "\n",
        "# Load Data\n",
        "hls_all_raw = pd.read_csv(\"/content/drive/MyDrive/HSL_ALL.csv\")\n",
        "weo_raw = pd.read_csv(\"/content/drive/MyDrive/WEOOct2023all.xls\", sep='\\t', encoding='latin1')\n",
        "\n",
        "# Filter and Merge Data\n",
        "hls_train = hls_all_raw[(hls_all_raw[\"Indicator\"] == \"Social support\") & (hls_all_raw[\"Time\"] == 2018) & (hls_all_raw[\"Type of indicator\"] == \"Average\")]\n",
        "weo_selected_measurement = weo_raw[weo_raw['WEO Subject Code'].str.contains(\"LUR\", na=False)] #LUR unemployment, PCPI average inflation, LP population\n",
        "merged_train_data = pd.merge(hls_train, weo_selected_measurement[['Country', '2018']], on=\"Country\").rename(columns={\"Value\": \"Happiness Measurement\", \"2018\": \"Income Measurement\"})\n",
        "\n",
        "# Prepare Data\n",
        "X = merged_train_data[[\"Income Measurement\"]].values\n",
        "Y = merged_train_data[\"Happiness Measurement\"].values.reshape(-1, 1)\n",
        "\n",
        "# Cross-Validation\n",
        "num_splits = 5\n",
        "model = sklearn.linear_model.LinearRegression()\n",
        "cv_scores = [mean_squared_error(Y_test, model.fit(X_train, Y_train).predict(X_test)) for _ in range(num_splits) for X_train, X_test, Y_train, Y_test in [train_test_split(X, Y, test_size=0.2)]]\n",
        "\n",
        "print(\"Cross-Validation Results (Social Support vs Unemployment)\")\n",
        "display(cv_scores, np.mean(cv_scores))"
      ]
    },
    {
      "cell_type": "code",
      "source": [
        "from sklearn.model_selection import train_test_split\n",
        "from sklearn.metrics import mean_squared_error\n",
        "import numpy as np\n",
        "import pandas as pd\n",
        "import sklearn.linear_model\n",
        "\n",
        "#Display Function\n",
        "def display(scores, mean) :\n",
        "  # Display resultss\n",
        "  print(\"============================================================\")\n",
        "  print(\"MSE Scores:\", scores)\n",
        "  print(\"Mean MSE Score:\", mean)\n",
        "\n",
        "# Load Data\n",
        "hls_all_raw = pd.read_csv(\"/content/drive/MyDrive/HSL_ALL.csv\")\n",
        "weo_raw = pd.read_csv(\"/content/drive/MyDrive/WEOOct2023all.xls\", sep='\\t', encoding='latin1')\n",
        "\n",
        "# Filter and Merge Data\n",
        "hls_train = hls_all_raw[(hls_all_raw[\"Indicator\"] == \"Social support\") & (hls_all_raw[\"Time\"] == 2018) & (hls_all_raw[\"Type of indicator\"] == \"Average\")]\n",
        "weo_selected_measurement = weo_raw[weo_raw['WEO Subject Code'].str.contains(\"PCPI\", na=False)] #LUR unemployment, PCPI average inflation, LP population\n",
        "merged_train_data = pd.merge(hls_train, weo_selected_measurement[['Country', '2018']], on=\"Country\").rename(columns={\"Value\": \"Happiness Measurement\", \"2018\": \"Income Measurement\"})\n",
        "\n",
        "# Prepare Data\n",
        "X = merged_train_data[[\"Income Measurement\"]].values\n",
        "Y = merged_train_data[\"Happiness Measurement\"].values.reshape(-1, 1)\n",
        "\n",
        "# Cross-Validation\n",
        "num_splits = 5\n",
        "model = sklearn.linear_model.LinearRegression()\n",
        "cv_scores = [mean_squared_error(Y_test, model.fit(X_train, Y_train).predict(X_test)) for _ in range(num_splits) for X_train, X_test, Y_train, Y_test in [train_test_split(X, Y, test_size=0.2)]]\n",
        "\n",
        "print(\"Cross-Validation Results (Social Support vs Unemployment)\")\n",
        "display(cv_scores, np.mean(cv_scores))"
      ],
      "metadata": {
        "id": "Yz4jFywZsjBN"
      },
      "execution_count": null,
      "outputs": []
    },
    {
      "cell_type": "code",
      "source": [
        "from sklearn.model_selection import train_test_split\n",
        "from sklearn.metrics import mean_squared_error\n",
        "import numpy as np\n",
        "import pandas as pd\n",
        "import sklearn.linear_model\n",
        "\n",
        "#Display Function\n",
        "def display(scores, mean) :\n",
        "  # Display resultss\n",
        "  print(\"============================================================\")\n",
        "  print(\"MSE Scores:\", scores)\n",
        "  print(\"Mean MSE Score:\", mean)\n",
        "\n",
        "# Load Data\n",
        "hls_all_raw = pd.read_csv(\"/content/drive/MyDrive/HSL_ALL.csv\")\n",
        "weo_raw = pd.read_csv(\"/content/drive/MyDrive/WEOOct2023all.xls\", sep='\\t', encoding='latin1')\n",
        "\n",
        "# Filter and Merge Data\n",
        "hls_train = hls_all_raw[(hls_all_raw[\"Indicator\"] == \"Social support\") & (hls_all_raw[\"Time\"] == 2018) & (hls_all_raw[\"Type of indicator\"] == \"Average\")]\n",
        "weo_selected_measurement = weo_raw[weo_raw['WEO Subject Code'].str.contains(\"LP\", na=False)] #LUR unemployment, PCPI average inflation, LP population\n",
        "merged_train_data = pd.merge(hls_train, weo_selected_measurement[['Country', '2018']], on=\"Country\").rename(columns={\"Value\": \"Happiness Measurement\", \"2018\": \"Income Measurement\"})\n",
        "\n",
        "# Prepare Data\n",
        "X = merged_train_data[[\"Income Measurement\"]].values\n",
        "Y = merged_train_data[\"Happiness Measurement\"].values.reshape(-1, 1)\n",
        "\n",
        "# Cross-Validation\n",
        "num_splits = 5\n",
        "model = sklearn.linear_model.LinearRegression()\n",
        "cv_scores = [mean_squared_error(Y_test, model.fit(X_train, Y_train).predict(X_test)) for _ in range(num_splits) for X_train, X_test, Y_train, Y_test in [train_test_split(X, Y, test_size=0.2)]]\n",
        "\n",
        "print(\"Cross-Validation Results (Social Support vs Unemployment)\")\n",
        "display(cv_scores, np.mean(cv_scores))"
      ],
      "metadata": {
        "colab": {
          "base_uri": "https://localhost:8080/"
        },
        "id": "-kcxTSSzsj0w",
        "outputId": "f702f25a-ae63-431d-ea46-306e01dd3e52"
      },
      "execution_count": 8,
      "outputs": [
        {
          "output_type": "stream",
          "name": "stdout",
          "text": [
            "Cross-Validation Results (Social Support vs Unemployment)\n",
            "============================================================\n",
            "MSE Scores: [20.25279968774982, 35.7563993804505, 16.978145118747847, 23.455987234955003, 7.914287117885957]\n",
            "Mean MSE Score: 20.871523707957827\n"
          ]
        }
      ]
    }
  ]
}